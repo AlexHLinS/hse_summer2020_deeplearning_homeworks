{
 "cells": [
  {
   "cell_type": "markdown",
   "source": [
    "### Deadline 2022-07-11 23:59:59"
   ],
   "metadata": {
    "collapsed": false,
    "pycharm": {
     "name": "#%% md\n"
    }
   }
  },
  {
   "cell_type": "markdown",
   "source": [
    "# Домашние задание\n",
    "1. Добавить Bias и посчитать для них градиенты.\n",
    "2. Сравнить градинеты с тем, как считает PyTorch AutoGrad."
   ],
   "metadata": {
    "collapsed": false,
    "pycharm": {
     "name": "#%% md\n"
    }
   }
  },
  {
   "cell_type": "code",
   "execution_count": 167,
   "metadata": {
    "collapsed": true,
    "pycharm": {
     "name": "#%%\n"
    }
   },
   "outputs": [],
   "source": [
    "import torch\n",
    "import pandas as pd\n",
    "import numpy as np"
   ]
  },
  {
   "cell_type": "code",
   "execution_count": 168,
   "outputs": [],
   "source": [
    "# настройки\n",
    "torch_device = 'cpu'\n",
    "torch_type = torch.float\n",
    "batch_size = 64\n",
    "input_size = 1000\n",
    "hidden_size = 100\n",
    "output_size = 10"
   ],
   "metadata": {
    "collapsed": false,
    "pycharm": {
     "name": "#%%\n"
    }
   }
  },
  {
   "cell_type": "code",
   "execution_count": 169,
   "outputs": [],
   "source": [
    "# генерируем исходные данные\n",
    "x = torch.randn(batch_size, input_size, device=torch_device, dtype=torch_type)\n",
    "y = torch.randn(batch_size, output_size, device=torch_device, dtype=torch_type)"
   ],
   "metadata": {
    "collapsed": false,
    "pycharm": {
     "name": "#%%\n"
    }
   }
  },
  {
   "cell_type": "code",
   "execution_count": 170,
   "outputs": [],
   "source": [
    "results = pd.DataFrame(np.zeros((1000, 2)), columns=['Manual', 'AutoGrad'])"
   ],
   "metadata": {
    "collapsed": false,
    "pycharm": {
     "name": "#%%\n"
    }
   }
  },
  {
   "cell_type": "markdown",
   "source": [
    "### Задание 1"
   ],
   "metadata": {
    "collapsed": false,
    "pycharm": {
     "name": "#%% md\n"
    }
   }
  },
  {
   "cell_type": "code",
   "execution_count": 171,
   "outputs": [],
   "source": [
    "# реализация двухслойной сети \"ручками\" с добавлением смещения\n",
    "#\n",
    "class DoubleLayerNeuroNetWithBias(torch.nn.Module):\n",
    "\n",
    "    def __init__(self, input_size: int, hidden_size: int, output_size: int, data_type: torch.dtype, learning_rate: float = 1e-6):\n",
    "        \"\"\"\n",
    "        :param input_size: размер входного слоя;\n",
    "        :param hidden_size: размер скрытых слоев;\n",
    "        :param output_size:  размер выходного слоя\n",
    "        \"\"\"\n",
    "        # инициализация весов: b1, b2 - смещения, w1,w2 -коэффициенты\n",
    "        super(DoubleLayerNeuroNetWithBias, self).__init__()\n",
    "        self.w1 = torch.randn(input_size, hidden_size, device=torch_device, dtype=data_type)\n",
    "        self.b1 = torch.randn(1, hidden_size, device=torch_device, dtype=data_type)\n",
    "        self.w2 = torch.randn(hidden_size, output_size, device=torch_device, dtype=data_type)\n",
    "        self.b2 = torch.randn(1, output_size, device=torch_device, dtype=data_type)\n",
    "        # инициализируем loss очень большим числом\n",
    "        self.loss = torch.inf\n",
    "        # инициализируем learning rate\n",
    "        self.learning_rate = learning_rate\n",
    "        pass\n",
    "\n",
    "    @staticmethod\n",
    "    def set_relu_activation(layer: torch.Tensor) -> torch.Tensor:\n",
    "        \"\"\"\n",
    "        :param layer: результат работы слоя на который применяем функцию активации;\n",
    "        :return: \"активированные\" значения\n",
    "        \"\"\"\n",
    "        return layer.clamp(min=0)\n",
    "\n",
    "    def get_loss(self) -> float:\n",
    "        \"\"\"\n",
    "        :return: текущее значение loss\n",
    "        \"\"\"\n",
    "        return self.loss\n",
    "\n",
    "    def set_loss(self, y: torch.Tensor, y_pred: torch.Tensor) -> float:\n",
    "        \"\"\"\n",
    "        :param y: фактические значения целевой переменной;\n",
    "        :param y_pred: предсказанные значения целевой переменной;\n",
    "        :return: полученное значение loss\n",
    "        \"\"\"\n",
    "        delta = torch.add(y, y_pred.mul(-1))\n",
    "        self.loss = torch.pow(delta, 2).sum().item()\n",
    "        return self.get_loss()\n",
    "\n",
    "    def set_gradients(self, x: torch.Tensor, y: torch.Tensor):\n",
    "        dLoss_dypred = 2 * (self.predicted - y)\n",
    "        dypred_dw2 = self.hidden_layer_1_out.t()\n",
    "        dypred_db2 = 1\n",
    "        dypred_dh_relu = self.w2.t()\n",
    "\n",
    "        dh_relu_db1 = 1\n",
    "\n",
    "        self.grad_w2 = dypred_dw2.mm(dLoss_dypred)\n",
    "        self.grad_b2 = dLoss_dypred.mm(torch.ones(size = self.b2.shape).t())\n",
    "        self.grad_relu = dLoss_dypred.mm(dypred_dh_relu)\n",
    "        self.grad_relu[self.hidden_layer_1 < 0] = 0\n",
    "        self.grad_w1 = x.t().mm(self.grad_relu)\n",
    "        self.grad_b1 = self.grad_relu.mm(torch.ones(size = self.b1.shape).t())\n",
    "        pass\n",
    "\n",
    "    def forward(self, x: torch.Tensor):\n",
    "        # первый коэффициент\n",
    "        self.hidden_layer_1 = (x.mm(self.w1)).add(self.b1)\n",
    "        # активатор\n",
    "        self.hidden_layer_1_out = self.set_relu_activation(self.hidden_layer_1)\n",
    "        # результат\n",
    "        self.predicted = (self.hidden_layer_1_out.mm(self.w2)).add(self.b2)\n",
    "        return self.predicted\n",
    "\n",
    "    def backward(self, x: torch.Tensor, y: torch.Tensor):\n",
    "        self.set_gradients(x,y)\n",
    "        self.w1 -= self.learning_rate * self.grad_w1\n",
    "        #self.b1 -= self.learning_rate * self.grad_b1\n",
    "        self.w2 -= self.learning_rate * self.grad_w2\n",
    "        #self.b2 -= self.learning_rate * self.grad_b2\n",
    "        pass\n"
   ],
   "metadata": {
    "collapsed": false,
    "pycharm": {
     "name": "#%%\n"
    }
   }
  },
  {
   "cell_type": "code",
   "execution_count": 172,
   "outputs": [],
   "source": [
    "neuro_net = DoubleLayerNeuroNetWithBias(input_size=input_size, hidden_size=hidden_size, output_size=output_size,\n",
    "                                        data_type=torch_type)\n",
    "for _ in range(1000):\n",
    "    pred = neuro_net.forward(x)\n",
    "    results['Manual'][_] = neuro_net.set_loss(y=y, y_pred=pred)\n",
    "    neuro_net.backward(x, y)"
   ],
   "metadata": {
    "collapsed": false,
    "pycharm": {
     "name": "#%%\n"
    }
   }
  },
  {
   "cell_type": "markdown",
   "source": [
    "### Задание 2"
   ],
   "metadata": {
    "collapsed": false,
    "pycharm": {
     "name": "#%% md\n"
    }
   }
  },
  {
   "cell_type": "code",
   "execution_count": 173,
   "outputs": [],
   "source": [
    "# Код скопирован из семинарской тетрадки и в него добавлены смещения для первого и второго слоев b1 и b2 соответственно\n",
    "\n",
    "w1 = torch.randn(input_size, hidden_size, device=torch_device, dtype=torch_type, requires_grad=True)\n",
    "b1 = torch.randn(1, hidden_size, device=torch_device, dtype=torch_type, requires_grad=True)\n",
    "w2 = torch.randn(hidden_size, output_size, device=torch_device, dtype=torch_type, requires_grad=True)\n",
    "b2 = torch.randn(1, output_size, device=torch_device, dtype=torch_type, requires_grad=True)\n",
    "\n",
    "learning_rate = 1e-6\n",
    "for t in range(1000):\n",
    "    y_pred = (x.mm(w1).add(b1)).clamp(min=0).mm(w2).add(b2)\n",
    "\n",
    "    loss = (y_pred - y).pow(2).sum()\n",
    "\n",
    "    results['AutoGrad'][t] = loss.item()\n",
    "\n",
    "    # Теперь подсчет градиентов для весов происходит при вызове backward\n",
    "    loss.backward()\n",
    "\n",
    "    # Обновляем значение весов, но укзаываем, чтобы PyTorch не считал эту операцию,\n",
    "    # которая бы учавствовала бы при подсчете градиентов в chain rule\n",
    "    with torch.no_grad():\n",
    "        w1 -= learning_rate * w1.grad\n",
    "        b1 -= learning_rate * b1.grad\n",
    "        w2 -= learning_rate * w2.grad\n",
    "        b2 -= learning_rate * b2.grad\n",
    "\n",
    "        # Теперь обнуляем значение градиентов, чтобы на следующем шаге\n",
    "        # они не учитывались при подсчете новых градиентов,\n",
    "        # иначе произойдет суммирвоание старых и новых градиентов\n",
    "        w1.grad.zero_()\n",
    "        b1.grad.zero_()\n",
    "        w2.grad.zero_()\n",
    "        b2.grad.zero_()"
   ],
   "metadata": {
    "collapsed": false,
    "pycharm": {
     "name": "#%%\n"
    }
   }
  },
  {
   "cell_type": "markdown",
   "source": [
    "### Сравнение"
   ],
   "metadata": {
    "collapsed": false,
    "pycharm": {
     "name": "#%% md\n"
    }
   }
  },
  {
   "cell_type": "code",
   "execution_count": 174,
   "outputs": [
    {
     "data": {
      "text/plain": "<AxesSubplot:>"
     },
     "execution_count": 174,
     "metadata": {},
     "output_type": "execute_result"
    },
    {
     "data": {
      "text/plain": "<Figure size 1440x360 with 1 Axes>",
      "image/png": "[encoded data removed]"
     },
     "metadata": {
      "needs_background": "light"
     },
     "output_type": "display_data"
    }
   ],
   "source": [
    "results.plot(figsize = [20,5], logx = True)"
   ],
   "metadata": {
    "collapsed": false,
    "pycharm": {
     "name": "#%%\n"
    }
   }
  },
  {
   "cell_type": "markdown",
   "source": [
    "#### Вывод:\n",
    "Первоначальный вывод был \"Ручной способ монотонный и предсказуемый, однако не смотря на \"всплеск\" AutoGrad достигает оптимального значения раньше.\", однако запустив несколько раз тетрадку, было замечено, что AutoGrad может достигать результата как быстрее, так и медленнее, такое поведение обусловлено, на мой взгляд, наличием \"случайной\" составляющей в алгоритме."
   ],
   "metadata": {
    "collapsed": false,
    "pycharm": {
     "name": "#%% md\n"
    }
   }
  }
 ],
 "metadata": {
  "kernelspec": {
   "display_name": "Python 3",
   "language": "python",
   "name": "python3"
  },
  "language_info": {
   "codemirror_mode": {
    "name": "ipython",
    "version": 2
   },
   "file_extension": ".py",
   "mimetype": "text/x-python",
   "name": "python",
   "nbconvert_exporter": "python",
   "pygments_lexer": "ipython2",
   "version": "2.7.6"
  }
 },
 "nbformat": 4,
 "nbformat_minor": 0
}